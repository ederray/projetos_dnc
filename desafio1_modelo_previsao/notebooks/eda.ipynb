{
 "cells": [
  {
   "cell_type": "markdown",
   "id": "78b9acd0",
   "metadata": {},
   "source": [
    "# Análise Exploratória dos dados"
   ]
  },
  {
   "cell_type": "markdown",
   "id": "eb28af88",
   "metadata": {},
   "source": [
    "### Objetivo\n",
    "\n",
    "Nesta etapa, validamos os dados para construir um painel gerencial de um e-commerce, que busca analisar suas vendas e definir estratégias para alavancar resultados. \n",
    "\n",
    "Também será desenvolvido um modelo de séries temporais para prever as vendas dos próximos 60 dias.\n",
    "\n",
    "---\n",
    "\n",
    "### Dados utilizados\n",
    "\n",
    "Contamos com duas bases localizadas em `data/raw`:\n",
    "\n",
    "- `tbl_clientes`\n",
    "- `tbl_vendas`\n",
    "\n",
    "Para entender a estrutura dos dados, consulte a imagem `metadados.png` na pasta `references`.\n",
    "\n",
    "---\n",
    "\n",
    "### Observações\n",
    "\n",
    "- Não possuímos detalhes sobre a origem dos dados.\n",
    "- Não temos contato com o time de negócios para auxiliar na validação.\n",
    "\n"
   ]
  },
  {
   "cell_type": "markdown",
   "id": "94dbf943",
   "metadata": {},
   "source": [
    "### Etapas de Validação e Preparação dos dados\n",
    "\n",
    "#### 1. Exploração Inicial e Validação dos Dados\n",
    "- Amostragem e verificação dos tipos de dados das tabelas.\n",
    "- Verificação de valores únicos de `id` na `tbl_clientes`.\n",
    "- Remoção de duplicatas na coluna `id` da `tbl_clientes`.\n",
    "- Identificação de clientes na   `tbl_vendas` que não estão presentes na `tbl_clientes`.\n",
    "\n",
    "#### 2. Enriquecimento e Tratamento de Dados\n",
    "- Construção da coluna `estado` na `tbl_vendas`.\n",
    "- Construção da coluna `vl_frete` na `tbl_vendas`.\n",
    "- Verificação de valores únicos na coluna `idcompra` na `tbl_vendas`.\n",
    "- Tratamento da coluna `idcanalpedidos` na `tbl_vendas`.\n",
    "- Construção da coluna `Nome_Departamento_ajustado` a partir da `Nome_Departamento`.\n",
    "\n",
    "#### 3. Preparação da Tabela de Previsão\n",
    "- Criação da `tabela_previsão` para treinamento do modelo.\n",
    "- Inserção da coluna de data como índice.\n",
    "- Aplicação de `resample` diário na `tabela_previsão`.\n",
    "\n",
    "#### 4. Análise Exploratória da Série Temporal\n",
    "- Visualização dos dados em formato de série temporal.\n",
    "- Análise descritiva dos dados da `tabela_previsão`.\n",
    "- Verificação de outliers e validação de técnica de ajuste.\n",
    "- Plotagem de histograma da variável-alvo.\n",
    "\n",
    "#### 5. Feature Engineering\n",
    "- Criação de colunas de média móvel e *lags*.\n",
    "- Enriquecimento com atributos temporais derivados do índice.\n",
    "- Análise gráfica do *target* com as colunas de lag e média móvel.\n",
    "\n",
    "#### 6. Análise de Estacionariedade e Sazonalidade\n",
    "- Teste de estacionariedade da série temporal.\n",
    "- Gráfico de decomposição (tendência, sazonalidade, ruído).\n",
    "- Gráficos de autocorrelação (ACF) e autocorrelação parcial (PACF).\n",
    "\n",
    "#### 7. Armazenamento Final\n",
    "- Salvamento dos datasets na pasta `processed/`.\n"
   ]
  },
  {
   "cell_type": "markdown",
   "id": "20052712",
   "metadata": {},
   "source": [
    "## Setup"
   ]
  },
  {
   "cell_type": "code",
   "execution_count": 53,
   "id": "4c1b3072",
   "metadata": {},
   "outputs": [],
   "source": [
    "# carregamento das bibliotecas\n",
    "import sys\n",
    "sys.path.append('..')\n",
    "from src.data.preprocessing import *\n",
    "from src.data.load_data import salvar_dataset\n",
    "import pandas as pd\n",
    "import numpy as np\n",
    "import matplotlib.pyplot as plt\n",
    "from sklearn.preprocessing import power_transform\n"
   ]
  },
  {
   "cell_type": "code",
   "execution_count": null,
   "id": "410e5ca7",
   "metadata": {},
   "outputs": [],
   "source": [
    "# carregamento datasets\n",
    "tbl_vendas = pd.read_excel('../data/raw/Base_de_dados_desafio.xlsx', sheet_name='base compra')\n",
    "tbl_clientes = pd.read_excel('../data/raw/Base_de_dados_desafio.xlsx', sheet_name='Base cliente')"
   ]
  },
  {
   "cell_type": "markdown",
   "id": "63f21b0c",
   "metadata": {},
   "source": [
    "# Data Wrangling"
   ]
  },
  {
   "cell_type": "code",
   "execution_count": 56,
   "id": "15d953b9",
   "metadata": {},
   "outputs": [
    {
     "data": {
      "text/html": [
       "<div>\n",
       "<style scoped>\n",
       "    .dataframe tbody tr th:only-of-type {\n",
       "        vertical-align: middle;\n",
       "    }\n",
       "\n",
       "    .dataframe tbody tr th {\n",
       "        vertical-align: top;\n",
       "    }\n",
       "\n",
       "    .dataframe thead th {\n",
       "        text-align: right;\n",
       "    }\n",
       "</style>\n",
       "<table border=\"1\" class=\"dataframe\">\n",
       "  <thead>\n",
       "    <tr style=\"text-align: right;\">\n",
       "      <th></th>\n",
       "      <th>idcompra</th>\n",
       "      <th>idcanalvenda</th>\n",
       "      <th>bandeira</th>\n",
       "      <th>Data</th>\n",
       "      <th>Preço</th>\n",
       "      <th>Preço_com_frete</th>\n",
       "      <th>Nome_Departamento</th>\n",
       "      <th>estado</th>\n",
       "      <th>cliente_Log</th>\n",
       "    </tr>\n",
       "  </thead>\n",
       "  <tbody>\n",
       "    <tr>\n",
       "      <th>19753</th>\n",
       "      <td>214155</td>\n",
       "      <td>Aplicativo</td>\n",
       "      <td>B</td>\n",
       "      <td>2021-04-01</td>\n",
       "      <td>319.20</td>\n",
       "      <td>319.20</td>\n",
       "      <td>Informatica</td>\n",
       "      <td>RJ,Brasil</td>\n",
       "      <td>6945</td>\n",
       "    </tr>\n",
       "    <tr>\n",
       "      <th>77501</th>\n",
       "      <td>310685</td>\n",
       "      <td>Aplicativo</td>\n",
       "      <td>A</td>\n",
       "      <td>2021-04-12</td>\n",
       "      <td>26.32</td>\n",
       "      <td>26.32</td>\n",
       "      <td>Acessorios e Inovacoes</td>\n",
       "      <td>MG,Brasil</td>\n",
       "      <td>10860</td>\n",
       "    </tr>\n",
       "    <tr>\n",
       "      <th>49140</th>\n",
       "      <td>251025</td>\n",
       "      <td>Mobile</td>\n",
       "      <td>B</td>\n",
       "      <td>2021-04-06</td>\n",
       "      <td>3439.20</td>\n",
       "      <td>3439.20</td>\n",
       "      <td>Telefones e Celulares</td>\n",
       "      <td>SP,Brasil</td>\n",
       "      <td>5550</td>\n",
       "    </tr>\n",
       "  </tbody>\n",
       "</table>\n",
       "</div>"
      ],
      "text/plain": [
       "       idcompra idcanalvenda bandeira       Data    Preço  Preço_com_frete  \\\n",
       "19753    214155   Aplicativo        B 2021-04-01   319.20           319.20   \n",
       "77501    310685   Aplicativo        A 2021-04-12    26.32            26.32   \n",
       "49140    251025       Mobile        B 2021-04-06  3439.20          3439.20   \n",
       "\n",
       "            Nome_Departamento     estado  cliente_Log  \n",
       "19753             Informatica  RJ,Brasil         6945  \n",
       "77501  Acessorios e Inovacoes  MG,Brasil        10860  \n",
       "49140   Telefones e Celulares  SP,Brasil         5550  "
      ]
     },
     "execution_count": 56,
     "metadata": {},
     "output_type": "execute_result"
    }
   ],
   "source": [
    "# amostragem dos dados da tabela vendas\n",
    "amostra_dados(tbl_vendas)"
   ]
  },
  {
   "cell_type": "code",
   "execution_count": 57,
   "id": "708c4ed8",
   "metadata": {},
   "outputs": [
    {
     "data": {
      "text/html": [
       "<div>\n",
       "<style scoped>\n",
       "    .dataframe tbody tr th:only-of-type {\n",
       "        vertical-align: middle;\n",
       "    }\n",
       "\n",
       "    .dataframe tbody tr th {\n",
       "        vertical-align: top;\n",
       "    }\n",
       "\n",
       "    .dataframe thead th {\n",
       "        text-align: right;\n",
       "    }\n",
       "</style>\n",
       "<table border=\"1\" class=\"dataframe\">\n",
       "  <thead>\n",
       "    <tr style=\"text-align: right;\">\n",
       "      <th></th>\n",
       "      <th>cliente_Log</th>\n",
       "      <th>idade</th>\n",
       "      <th>uf_nascimento</th>\n",
       "      <th>renda</th>\n",
       "    </tr>\n",
       "  </thead>\n",
       "  <tbody>\n",
       "    <tr>\n",
       "      <th>23389</th>\n",
       "      <td>7814</td>\n",
       "      <td>56</td>\n",
       "      <td>SP</td>\n",
       "      <td>7700</td>\n",
       "    </tr>\n",
       "    <tr>\n",
       "      <th>23444</th>\n",
       "      <td>6259</td>\n",
       "      <td>58</td>\n",
       "      <td>AL</td>\n",
       "      <td>14146</td>\n",
       "    </tr>\n",
       "    <tr>\n",
       "      <th>22624</th>\n",
       "      <td>19776</td>\n",
       "      <td>36</td>\n",
       "      <td>SP</td>\n",
       "      <td>4971</td>\n",
       "    </tr>\n",
       "  </tbody>\n",
       "</table>\n",
       "</div>"
      ],
      "text/plain": [
       "       cliente_Log  idade uf_nascimento  renda\n",
       "23389         7814     56            SP   7700\n",
       "23444         6259     58            AL  14146\n",
       "22624        19776     36            SP   4971"
      ]
     },
     "execution_count": 57,
     "metadata": {},
     "output_type": "execute_result"
    }
   ],
   "source": [
    "# amostragem dos dados da tabela clientes\n",
    "amostra_dados(tbl_clientes)"
   ]
  },
  {
   "cell_type": "code",
   "execution_count": 58,
   "id": "b56c2f2d",
   "metadata": {},
   "outputs": [
    {
     "name": "stdout",
     "output_type": "stream",
     "text": [
      "<class 'pandas.core.frame.DataFrame'>\n",
      "RangeIndex: 80228 entries, 0 to 80227\n",
      "Data columns (total 9 columns):\n",
      " #   Column             Non-Null Count  Dtype         \n",
      "---  ------             --------------  -----         \n",
      " 0   idcompra           80228 non-null  int64         \n",
      " 1   idcanalvenda       80228 non-null  object        \n",
      " 2   bandeira           80228 non-null  object        \n",
      " 3   Data               80228 non-null  datetime64[ns]\n",
      " 4   Preço              80228 non-null  float64       \n",
      " 5   Preço_com_frete    80228 non-null  float64       \n",
      " 6   Nome_Departamento  80228 non-null  object        \n",
      " 7   estado             80228 non-null  object        \n",
      " 8   cliente_Log        80228 non-null  int64         \n",
      "dtypes: datetime64[ns](1), float64(2), int64(2), object(4)\n",
      "memory usage: 5.5+ MB\n"
     ]
    }
   ],
   "source": [
    "# informação da tabela de vendas\n",
    "tbl_vendas.info()"
   ]
  },
  {
   "cell_type": "code",
   "execution_count": 59,
   "id": "16c6d581",
   "metadata": {},
   "outputs": [
    {
     "name": "stdout",
     "output_type": "stream",
     "text": [
      "<class 'pandas.core.frame.DataFrame'>\n",
      "RangeIndex: 26425 entries, 0 to 26424\n",
      "Data columns (total 4 columns):\n",
      " #   Column         Non-Null Count  Dtype \n",
      "---  ------         --------------  ----- \n",
      " 0   cliente_Log    26425 non-null  int64 \n",
      " 1   idade          26425 non-null  int64 \n",
      " 2   uf_nascimento  26425 non-null  object\n",
      " 3   renda          26425 non-null  int64 \n",
      "dtypes: int64(3), object(1)\n",
      "memory usage: 825.9+ KB\n"
     ]
    }
   ],
   "source": [
    "# informação da tabela de clientes\n",
    "tbl_clientes.info()"
   ]
  },
  {
   "cell_type": "markdown",
   "id": "eb0d5e3c",
   "metadata": {},
   "source": [
    "Base de cadastro problemática"
   ]
  },
  {
   "cell_type": "code",
   "execution_count": 60,
   "id": "d9c47cee",
   "metadata": {},
   "outputs": [
    {
     "data": {
      "text/plain": [
       "cliente_Log\n",
       "27855    7\n",
       "1563     6\n",
       "16473    6\n",
       "26298    6\n",
       "22913    6\n",
       "        ..\n",
       "10268    1\n",
       "5024     1\n",
       "4593     1\n",
       "10884    1\n",
       "16428    1\n",
       "Name: count, Length: 17040, dtype: int64"
      ]
     },
     "execution_count": 60,
     "metadata": {},
     "output_type": "execute_result"
    }
   ],
   "source": [
    "# verificação de id's duplicados na base de cadastro\n",
    "tbl_clientes.cliente_Log.value_counts()"
   ]
  },
  {
   "cell_type": "code",
   "execution_count": 61,
   "id": "a64cc344",
   "metadata": {},
   "outputs": [
    {
     "data": {
      "text/html": [
       "<div>\n",
       "<style scoped>\n",
       "    .dataframe tbody tr th:only-of-type {\n",
       "        vertical-align: middle;\n",
       "    }\n",
       "\n",
       "    .dataframe tbody tr th {\n",
       "        vertical-align: top;\n",
       "    }\n",
       "\n",
       "    .dataframe thead th {\n",
       "        text-align: right;\n",
       "    }\n",
       "</style>\n",
       "<table border=\"1\" class=\"dataframe\">\n",
       "  <thead>\n",
       "    <tr style=\"text-align: right;\">\n",
       "      <th></th>\n",
       "      <th>cliente_Log</th>\n",
       "      <th>idade</th>\n",
       "      <th>uf_nascimento</th>\n",
       "      <th>renda</th>\n",
       "    </tr>\n",
       "  </thead>\n",
       "  <tbody>\n",
       "    <tr>\n",
       "      <th>499</th>\n",
       "      <td>27855</td>\n",
       "      <td>64</td>\n",
       "      <td>SP</td>\n",
       "      <td>13742</td>\n",
       "    </tr>\n",
       "    <tr>\n",
       "      <th>656</th>\n",
       "      <td>27855</td>\n",
       "      <td>82</td>\n",
       "      <td>RJ</td>\n",
       "      <td>14296</td>\n",
       "    </tr>\n",
       "    <tr>\n",
       "      <th>1327</th>\n",
       "      <td>27855</td>\n",
       "      <td>53</td>\n",
       "      <td>SP</td>\n",
       "      <td>2953</td>\n",
       "    </tr>\n",
       "    <tr>\n",
       "      <th>11798</th>\n",
       "      <td>27855</td>\n",
       "      <td>19</td>\n",
       "      <td>RJ</td>\n",
       "      <td>8259</td>\n",
       "    </tr>\n",
       "    <tr>\n",
       "      <th>19179</th>\n",
       "      <td>27855</td>\n",
       "      <td>74</td>\n",
       "      <td>RN</td>\n",
       "      <td>10698</td>\n",
       "    </tr>\n",
       "    <tr>\n",
       "      <th>19564</th>\n",
       "      <td>27855</td>\n",
       "      <td>36</td>\n",
       "      <td>SP</td>\n",
       "      <td>12222</td>\n",
       "    </tr>\n",
       "    <tr>\n",
       "      <th>24084</th>\n",
       "      <td>27855</td>\n",
       "      <td>86</td>\n",
       "      <td>SP</td>\n",
       "      <td>5062</td>\n",
       "    </tr>\n",
       "  </tbody>\n",
       "</table>\n",
       "</div>"
      ],
      "text/plain": [
       "       cliente_Log  idade uf_nascimento  renda\n",
       "499          27855     64            SP  13742\n",
       "656          27855     82            RJ  14296\n",
       "1327         27855     53            SP   2953\n",
       "11798        27855     19            RJ   8259\n",
       "19179        27855     74            RN  10698\n",
       "19564        27855     36            SP  12222\n",
       "24084        27855     86            SP   5062"
      ]
     },
     "execution_count": 61,
     "metadata": {},
     "output_type": "execute_result"
    }
   ],
   "source": [
    "tbl_clientes[tbl_clientes.cliente_Log==27855]"
   ]
  },
  {
   "cell_type": "code",
   "execution_count": 62,
   "id": "c9abde38",
   "metadata": {},
   "outputs": [
    {
     "data": {
      "text/html": [
       "<div>\n",
       "<style scoped>\n",
       "    .dataframe tbody tr th:only-of-type {\n",
       "        vertical-align: middle;\n",
       "    }\n",
       "\n",
       "    .dataframe tbody tr th {\n",
       "        vertical-align: top;\n",
       "    }\n",
       "\n",
       "    .dataframe thead th {\n",
       "        text-align: right;\n",
       "    }\n",
       "</style>\n",
       "<table border=\"1\" class=\"dataframe\">\n",
       "  <thead>\n",
       "    <tr style=\"text-align: right;\">\n",
       "      <th></th>\n",
       "      <th>cliente_Log</th>\n",
       "      <th>idade</th>\n",
       "      <th>uf_nascimento</th>\n",
       "      <th>renda</th>\n",
       "    </tr>\n",
       "  </thead>\n",
       "  <tbody>\n",
       "    <tr>\n",
       "      <th>213</th>\n",
       "      <td>12576</td>\n",
       "      <td>43</td>\n",
       "      <td>RJ</td>\n",
       "      <td>2044</td>\n",
       "    </tr>\n",
       "    <tr>\n",
       "      <th>217</th>\n",
       "      <td>13651</td>\n",
       "      <td>25</td>\n",
       "      <td>SP</td>\n",
       "      <td>11436</td>\n",
       "    </tr>\n",
       "    <tr>\n",
       "      <th>232</th>\n",
       "      <td>23218</td>\n",
       "      <td>68</td>\n",
       "      <td>RJ</td>\n",
       "      <td>3549</td>\n",
       "    </tr>\n",
       "    <tr>\n",
       "      <th>242</th>\n",
       "      <td>8474</td>\n",
       "      <td>70</td>\n",
       "      <td>RS</td>\n",
       "      <td>13567</td>\n",
       "    </tr>\n",
       "    <tr>\n",
       "      <th>371</th>\n",
       "      <td>9770</td>\n",
       "      <td>18</td>\n",
       "      <td>SP</td>\n",
       "      <td>11157</td>\n",
       "    </tr>\n",
       "    <tr>\n",
       "      <th>...</th>\n",
       "      <td>...</td>\n",
       "      <td>...</td>\n",
       "      <td>...</td>\n",
       "      <td>...</td>\n",
       "    </tr>\n",
       "    <tr>\n",
       "      <th>26417</th>\n",
       "      <td>3235</td>\n",
       "      <td>42</td>\n",
       "      <td>SP</td>\n",
       "      <td>8527</td>\n",
       "    </tr>\n",
       "    <tr>\n",
       "      <th>26419</th>\n",
       "      <td>2459</td>\n",
       "      <td>84</td>\n",
       "      <td>SP</td>\n",
       "      <td>13120</td>\n",
       "    </tr>\n",
       "    <tr>\n",
       "      <th>26421</th>\n",
       "      <td>22379</td>\n",
       "      <td>31</td>\n",
       "      <td>SC</td>\n",
       "      <td>5108</td>\n",
       "    </tr>\n",
       "    <tr>\n",
       "      <th>26422</th>\n",
       "      <td>27351</td>\n",
       "      <td>35</td>\n",
       "      <td>RJ</td>\n",
       "      <td>13136</td>\n",
       "    </tr>\n",
       "    <tr>\n",
       "      <th>26423</th>\n",
       "      <td>23491</td>\n",
       "      <td>50</td>\n",
       "      <td>SP</td>\n",
       "      <td>12304</td>\n",
       "    </tr>\n",
       "  </tbody>\n",
       "</table>\n",
       "<p>9385 rows × 4 columns</p>\n",
       "</div>"
      ],
      "text/plain": [
       "       cliente_Log  idade uf_nascimento  renda\n",
       "213          12576     43            RJ   2044\n",
       "217          13651     25            SP  11436\n",
       "232          23218     68            RJ   3549\n",
       "242           8474     70            RS  13567\n",
       "371           9770     18            SP  11157\n",
       "...            ...    ...           ...    ...\n",
       "26417         3235     42            SP   8527\n",
       "26419         2459     84            SP  13120\n",
       "26421        22379     31            SC   5108\n",
       "26422        27351     35            RJ  13136\n",
       "26423        23491     50            SP  12304\n",
       "\n",
       "[9385 rows x 4 columns]"
      ]
     },
     "execution_count": 62,
     "metadata": {},
     "output_type": "execute_result"
    }
   ],
   "source": [
    "tbl_clientes[tbl_clientes.cliente_Log.duplicated()]"
   ]
  },
  {
   "cell_type": "code",
   "execution_count": 63,
   "id": "98eb0ca1",
   "metadata": {},
   "outputs": [
    {
     "name": "stdout",
     "output_type": "stream",
     "text": [
      "<class 'pandas.core.frame.DataFrame'>\n",
      "Index: 17040 entries, 0 to 26424\n",
      "Data columns (total 4 columns):\n",
      " #   Column         Non-Null Count  Dtype \n",
      "---  ------         --------------  ----- \n",
      " 0   cliente_Log    17040 non-null  int64 \n",
      " 1   idade          17040 non-null  int64 \n",
      " 2   uf_nascimento  17040 non-null  object\n",
      " 3   renda          17040 non-null  int64 \n",
      "dtypes: int64(3), object(1)\n",
      "memory usage: 665.6+ KB\n"
     ]
    }
   ],
   "source": [
    "# tratamento de valores duplicados da tabela clientes\n",
    "tbl_clientes = remover_duplicados(tbl_clientes, 'cliente_Log')\n",
    "tbl_clientes.info()"
   ]
  },
  {
   "cell_type": "code",
   "execution_count": 64,
   "id": "22e31e5b",
   "metadata": {},
   "outputs": [
    {
     "data": {
      "text/plain": [
       "Series([], Name: count, dtype: int64)"
      ]
     },
     "execution_count": 64,
     "metadata": {},
     "output_type": "execute_result"
    }
   ],
   "source": [
    "# verificação de valores duplicados após tratamento\n",
    "valores_duplicados = tbl_clientes['cliente_Log'].value_counts()\n",
    "\n",
    "contagens_filtradas = valores_duplicados[valores_duplicados > 1]\n",
    "contagens_filtradas\n",
    "\n"
   ]
  },
  {
   "cell_type": "code",
   "execution_count": 66,
   "id": "c1ac33d0",
   "metadata": {},
   "outputs": [
    {
     "data": {
      "text/html": [
       "<div>\n",
       "<style scoped>\n",
       "    .dataframe tbody tr th:only-of-type {\n",
       "        vertical-align: middle;\n",
       "    }\n",
       "\n",
       "    .dataframe tbody tr th {\n",
       "        vertical-align: top;\n",
       "    }\n",
       "\n",
       "    .dataframe thead th {\n",
       "        text-align: right;\n",
       "    }\n",
       "</style>\n",
       "<table border=\"1\" class=\"dataframe\">\n",
       "  <thead>\n",
       "    <tr style=\"text-align: right;\">\n",
       "      <th></th>\n",
       "      <th></th>\n",
       "      <th></th>\n",
       "      <th></th>\n",
       "      <th>n_duplicates</th>\n",
       "    </tr>\n",
       "    <tr>\n",
       "      <th>cliente_Log</th>\n",
       "      <th>idade</th>\n",
       "      <th>uf_nascimento</th>\n",
       "      <th>renda</th>\n",
       "      <th></th>\n",
       "    </tr>\n",
       "  </thead>\n",
       "  <tbody>\n",
       "  </tbody>\n",
       "</table>\n",
       "</div>"
      ],
      "text/plain": [
       "Empty DataFrame\n",
       "Columns: [n_duplicates]\n",
       "Index: []"
      ]
     },
     "execution_count": 66,
     "metadata": {},
     "output_type": "execute_result"
    }
   ],
   "source": [
    "# verificação de duplicados\n",
    "(\n",
    "    tbl_clientes.groupby(tbl_clientes.columns.tolist(), dropna=False)\n",
    "    .size()\n",
    "    .to_frame('n_duplicates')\n",
    "    .query('n_duplicates>1')\n",
    "    .sort_values(by ='n_duplicates', ascending=False)\n",
    "    .head(5)\n",
    ")"
   ]
  },
  {
   "cell_type": "markdown",
   "id": "6d6a7bc4",
   "metadata": {},
   "source": [
    "# Clientes não-localizados"
   ]
  },
  {
   "cell_type": "code",
   "execution_count": 69,
   "id": "179d562d",
   "metadata": {},
   "outputs": [
    {
     "data": {
      "text/html": [
       "<div>\n",
       "<style scoped>\n",
       "    .dataframe tbody tr th:only-of-type {\n",
       "        vertical-align: middle;\n",
       "    }\n",
       "\n",
       "    .dataframe tbody tr th {\n",
       "        vertical-align: top;\n",
       "    }\n",
       "\n",
       "    .dataframe thead th {\n",
       "        text-align: right;\n",
       "    }\n",
       "</style>\n",
       "<table border=\"1\" class=\"dataframe\">\n",
       "  <thead>\n",
       "    <tr style=\"text-align: right;\">\n",
       "      <th></th>\n",
       "      <th>idcompra</th>\n",
       "      <th>idcanalvenda</th>\n",
       "      <th>bandeira</th>\n",
       "      <th>Data</th>\n",
       "      <th>Preço</th>\n",
       "      <th>Preço_com_frete</th>\n",
       "      <th>Nome_Departamento</th>\n",
       "      <th>estado</th>\n",
       "      <th>cliente_Log</th>\n",
       "      <th>idade</th>\n",
       "      <th>uf_nascimento</th>\n",
       "      <th>renda</th>\n",
       "    </tr>\n",
       "  </thead>\n",
       "  <tbody>\n",
       "    <tr>\n",
       "      <th>0</th>\n",
       "      <td>393835</td>\n",
       "      <td>Mobile</td>\n",
       "      <td>A</td>\n",
       "      <td>2021-03-30</td>\n",
       "      <td>791.280</td>\n",
       "      <td>791.280</td>\n",
       "      <td>Telefones e Celulares</td>\n",
       "      <td>SP,Brasil</td>\n",
       "      <td>14098</td>\n",
       "      <td>37.0</td>\n",
       "      <td>SP</td>\n",
       "      <td>6757.0</td>\n",
       "    </tr>\n",
       "    <tr>\n",
       "      <th>1</th>\n",
       "      <td>411885</td>\n",
       "      <td>Mobile</td>\n",
       "      <td>A</td>\n",
       "      <td>2021-03-30</td>\n",
       "      <td>679.200</td>\n",
       "      <td>679.200</td>\n",
       "      <td>Tablets</td>\n",
       "      <td>SP,Brasil</td>\n",
       "      <td>24992</td>\n",
       "      <td>NaN</td>\n",
       "      <td>NaN</td>\n",
       "      <td>NaN</td>\n",
       "    </tr>\n",
       "    <tr>\n",
       "      <th>2</th>\n",
       "      <td>437305</td>\n",
       "      <td>Mobile</td>\n",
       "      <td>A</td>\n",
       "      <td>2021-03-30</td>\n",
       "      <td>35.920</td>\n",
       "      <td>37.512</td>\n",
       "      <td>Bebes</td>\n",
       "      <td>SP,Brasil</td>\n",
       "      <td>9870</td>\n",
       "      <td>88.0</td>\n",
       "      <td>PR</td>\n",
       "      <td>10789.0</td>\n",
       "    </tr>\n",
       "    <tr>\n",
       "      <th>3</th>\n",
       "      <td>440055</td>\n",
       "      <td>Aplicativo</td>\n",
       "      <td>A</td>\n",
       "      <td>2021-03-30</td>\n",
       "      <td>2239.416</td>\n",
       "      <td>2239.416</td>\n",
       "      <td>TVs e Acessorios</td>\n",
       "      <td>SP,Brasil</td>\n",
       "      <td>171</td>\n",
       "      <td>NaN</td>\n",
       "      <td>NaN</td>\n",
       "      <td>NaN</td>\n",
       "    </tr>\n",
       "    <tr>\n",
       "      <th>4</th>\n",
       "      <td>455795</td>\n",
       "      <td>Mobile</td>\n",
       "      <td>B</td>\n",
       "      <td>2021-03-30</td>\n",
       "      <td>1743.200</td>\n",
       "      <td>1785.112</td>\n",
       "      <td>Esporte e Lazer</td>\n",
       "      <td>RS,Brasil</td>\n",
       "      <td>12181</td>\n",
       "      <td>NaN</td>\n",
       "      <td>NaN</td>\n",
       "      <td>NaN</td>\n",
       "    </tr>\n",
       "    <tr>\n",
       "      <th>...</th>\n",
       "      <td>...</td>\n",
       "      <td>...</td>\n",
       "      <td>...</td>\n",
       "      <td>...</td>\n",
       "      <td>...</td>\n",
       "      <td>...</td>\n",
       "      <td>...</td>\n",
       "      <td>...</td>\n",
       "      <td>...</td>\n",
       "      <td>...</td>\n",
       "      <td>...</td>\n",
       "      <td>...</td>\n",
       "    </tr>\n",
       "    <tr>\n",
       "      <th>80223</th>\n",
       "      <td>636930</td>\n",
       "      <td>Aplicativo</td>\n",
       "      <td>B</td>\n",
       "      <td>2021-04-09</td>\n",
       "      <td>879.200</td>\n",
       "      <td>879.200</td>\n",
       "      <td>Telefones e Celulares</td>\n",
       "      <td>RJ,Brasil</td>\n",
       "      <td>7707</td>\n",
       "      <td>28.0</td>\n",
       "      <td>MG</td>\n",
       "      <td>14647.0</td>\n",
       "    </tr>\n",
       "    <tr>\n",
       "      <th>80224</th>\n",
       "      <td>658550</td>\n",
       "      <td>Aplicativo</td>\n",
       "      <td>B</td>\n",
       "      <td>2021-04-09</td>\n",
       "      <td>879.200</td>\n",
       "      <td>879.200</td>\n",
       "      <td>Telefones e Celulares</td>\n",
       "      <td>AM,Brasil</td>\n",
       "      <td>5925</td>\n",
       "      <td>51.0</td>\n",
       "      <td>MG</td>\n",
       "      <td>8568.0</td>\n",
       "    </tr>\n",
       "    <tr>\n",
       "      <th>80225</th>\n",
       "      <td>680170</td>\n",
       "      <td>Aplicativo</td>\n",
       "      <td>B</td>\n",
       "      <td>2021-04-09</td>\n",
       "      <td>879.200</td>\n",
       "      <td>879.200</td>\n",
       "      <td>Telefones e Celulares</td>\n",
       "      <td>PB,Brasil</td>\n",
       "      <td>246</td>\n",
       "      <td>74.0</td>\n",
       "      <td>DF</td>\n",
       "      <td>1724.0</td>\n",
       "    </tr>\n",
       "    <tr>\n",
       "      <th>80226</th>\n",
       "      <td>701790</td>\n",
       "      <td>Aplicativo</td>\n",
       "      <td>B</td>\n",
       "      <td>2021-04-09</td>\n",
       "      <td>879.200</td>\n",
       "      <td>879.200</td>\n",
       "      <td>Telefones e Celulares</td>\n",
       "      <td>PB,Brasil</td>\n",
       "      <td>21595</td>\n",
       "      <td>86.0</td>\n",
       "      <td>RJ</td>\n",
       "      <td>4108.0</td>\n",
       "    </tr>\n",
       "    <tr>\n",
       "      <th>80227</th>\n",
       "      <td>723410</td>\n",
       "      <td>Aplicativo</td>\n",
       "      <td>B</td>\n",
       "      <td>2021-04-09</td>\n",
       "      <td>879.200</td>\n",
       "      <td>879.200</td>\n",
       "      <td>Telefones e Celulares</td>\n",
       "      <td>PB,Brasil</td>\n",
       "      <td>18874</td>\n",
       "      <td>NaN</td>\n",
       "      <td>NaN</td>\n",
       "      <td>NaN</td>\n",
       "    </tr>\n",
       "  </tbody>\n",
       "</table>\n",
       "<p>80228 rows × 12 columns</p>\n",
       "</div>"
      ],
      "text/plain": [
       "       idcompra idcanalvenda bandeira       Data     Preço  Preço_com_frete  \\\n",
       "0        393835       Mobile        A 2021-03-30   791.280          791.280   \n",
       "1        411885       Mobile        A 2021-03-30   679.200          679.200   \n",
       "2        437305       Mobile        A 2021-03-30    35.920           37.512   \n",
       "3        440055   Aplicativo        A 2021-03-30  2239.416         2239.416   \n",
       "4        455795       Mobile        B 2021-03-30  1743.200         1785.112   \n",
       "...         ...          ...      ...        ...       ...              ...   \n",
       "80223    636930   Aplicativo        B 2021-04-09   879.200          879.200   \n",
       "80224    658550   Aplicativo        B 2021-04-09   879.200          879.200   \n",
       "80225    680170   Aplicativo        B 2021-04-09   879.200          879.200   \n",
       "80226    701790   Aplicativo        B 2021-04-09   879.200          879.200   \n",
       "80227    723410   Aplicativo        B 2021-04-09   879.200          879.200   \n",
       "\n",
       "           Nome_Departamento     estado  cliente_Log  idade uf_nascimento  \\\n",
       "0      Telefones e Celulares  SP,Brasil        14098   37.0            SP   \n",
       "1                    Tablets  SP,Brasil        24992    NaN           NaN   \n",
       "2                      Bebes  SP,Brasil         9870   88.0            PR   \n",
       "3           TVs e Acessorios  SP,Brasil          171    NaN           NaN   \n",
       "4            Esporte e Lazer  RS,Brasil        12181    NaN           NaN   \n",
       "...                      ...        ...          ...    ...           ...   \n",
       "80223  Telefones e Celulares  RJ,Brasil         7707   28.0            MG   \n",
       "80224  Telefones e Celulares  AM,Brasil         5925   51.0            MG   \n",
       "80225  Telefones e Celulares  PB,Brasil          246   74.0            DF   \n",
       "80226  Telefones e Celulares  PB,Brasil        21595   86.0            RJ   \n",
       "80227  Telefones e Celulares  PB,Brasil        18874    NaN           NaN   \n",
       "\n",
       "         renda  \n",
       "0       6757.0  \n",
       "1          NaN  \n",
       "2      10789.0  \n",
       "3          NaN  \n",
       "4          NaN  \n",
       "...        ...  \n",
       "80223  14647.0  \n",
       "80224   8568.0  \n",
       "80225   1724.0  \n",
       "80226   4108.0  \n",
       "80227      NaN  \n",
       "\n",
       "[80228 rows x 12 columns]"
      ]
     },
     "execution_count": 69,
     "metadata": {},
     "output_type": "execute_result"
    }
   ],
   "source": [
    "# juncao das tabelas\n",
    "clientes_sem_cadastro = tbl_vendas.merge(tbl_clientes, on='cliente_Log', how='left')\n",
    "clientes_sem_cadastro"
   ]
  },
  {
   "cell_type": "markdown",
   "id": "6c48e7cc",
   "metadata": {},
   "source": [
    "## Verificar o percentual dos clientes sem cadastro representam do volume total de vendas."
   ]
  },
  {
   "cell_type": "code",
   "execution_count": 72,
   "id": "8d45acf1",
   "metadata": {},
   "outputs": [],
   "source": [
    "tbl_vendas['sigla_estado'] = tbl_vendas['estado'].str.split(\",\").str[0]\n"
   ]
  },
  {
   "cell_type": "code",
   "execution_count": 74,
   "id": "58c352d4",
   "metadata": {},
   "outputs": [],
   "source": [
    "# construção da coluna com o valor de frete\n",
    "tbl_vendas['vl_frete'] =tbl_vendas['Preço_com_frete'] - tbl_vendas['Preço']"
   ]
  },
  {
   "cell_type": "code",
   "execution_count": 75,
   "id": "56cca7dd",
   "metadata": {},
   "outputs": [
    {
     "data": {
      "text/plain": [
       "idcompra\n",
       "334870    5\n",
       "394310    5\n",
       "393660    5\n",
       "303265    5\n",
       "307685    5\n",
       "         ..\n",
       "8240      1\n",
       "4025      1\n",
       "481885    1\n",
       "422515    1\n",
       "344460    1\n",
       "Name: count, Length: 38940, dtype: int64"
      ]
     },
     "execution_count": 75,
     "metadata": {},
     "output_type": "execute_result"
    }
   ],
   "source": [
    "tbl_vendas.idcompra.value_counts()"
   ]
  },
  {
   "cell_type": "markdown",
   "id": "a591aea7",
   "metadata": {},
   "source": [
    "# Tratamento coluna idcanalvenda"
   ]
  },
  {
   "cell_type": "code",
   "execution_count": 82,
   "id": "6b93ed62",
   "metadata": {},
   "outputs": [
    {
     "data": {
      "text/plain": [
       "idcanalvenda\n",
       "Mobile        5613\n",
       "Internet      5596\n",
       "Aplicativo    4715\n",
       "Mobil          101\n",
       "Name: count, dtype: int64"
      ]
     },
     "execution_count": 82,
     "metadata": {},
     "output_type": "execute_result"
    }
   ],
   "source": [
    "tbl_vendas.idcanalvenda.value_counts()"
   ]
  },
  {
   "cell_type": "code",
   "execution_count": 83,
   "id": "04e1b212",
   "metadata": {},
   "outputs": [
    {
     "name": "stderr",
     "output_type": "stream",
     "text": [
      "C:\\Users\\ederr\\AppData\\Local\\Temp\\ipykernel_9404\\2459699549.py:1: FutureWarning: A value is trying to be set on a copy of a DataFrame or Series through chained assignment using an inplace method.\n",
      "The behavior will change in pandas 3.0. This inplace method will never work because the intermediate object on which we are setting values always behaves as a copy.\n",
      "\n",
      "For example, when doing 'df[col].method(value, inplace=True)', try using 'df.method({col: value}, inplace=True)' or df[col] = df[col].method(value) instead, to perform the operation inplace on the original object.\n",
      "\n",
      "\n",
      "  tbl_vendas.idcanalvenda.replace({'Mobil':'Mobile'},inplace=True)\n"
     ]
    }
   ],
   "source": [
    "tbl_vendas.idcanalvenda.replace({'Mobil':'Mobile'},inplace=True)"
   ]
  },
  {
   "cell_type": "code",
   "execution_count": 84,
   "id": "6a391607",
   "metadata": {},
   "outputs": [
    {
     "data": {
      "text/plain": [
       "Nome_Departamento\n",
       "Telefones e Celulares     0.171232\n",
       "Eletroportateis           0.132106\n",
       "Eletrodomesticos          0.125554\n",
       "Informatica               0.077254\n",
       "TVs e Acessorios          0.063526\n",
       "Bebes                     0.061529\n",
       "Beleza e Saude            0.058846\n",
       "Utilidades Domesticas     0.057910\n",
       "Moveis                    0.049485\n",
       "Acessorios e Inovacoes    0.047925\n",
       "Tablets                   0.023588\n",
       "Audio                     0.021279\n",
       "Brinquedos                0.016661\n",
       "Ferramentas               0.016162\n",
       "Automotivo                0.013292\n",
       "Ar e Ventilacao           0.012605\n",
       "Produtos de Limpeza       0.011108\n",
       "Games                     0.009423\n",
       "Perfumaria                0.009298\n",
       "Esporte e Lazer           0.007426\n",
       "Casa e Construcao         0.004618\n",
       "Cama, Mesa e Banho        0.002246\n",
       "Relogios                  0.002059\n",
       "Decoracao                 0.001997\n",
       "Malas e Mochilas          0.001560\n",
       "Linha Industrial          0.000811\n",
       "Pet Shop                  0.000312\n",
       "TV e Video                0.000062\n",
       "Cine e Foto               0.000062\n",
       "Moda                      0.000062\n",
       "Name: proportion, dtype: float64"
      ]
     },
     "execution_count": 84,
     "metadata": {},
     "output_type": "execute_result"
    }
   ],
   "source": [
    "frequencia = tbl_vendas['Nome_Departamento'].value_counts(normalize=True)\n",
    "frequencia"
   ]
  },
  {
   "cell_type": "code",
   "execution_count": 85,
   "id": "2abfbcd7",
   "metadata": {},
   "outputs": [],
   "source": [
    "categorias_comuns = frequencia[frequencia > 0.04].index  \n",
    "\n",
    "tbl_vendas['Nome_Departamento_ajustado']= tbl_vendas['Nome_Departamento'].where(tbl_vendas['Nome_Departamento'].isin(categorias_comuns), 'Outros')\n"
   ]
  },
  {
   "cell_type": "code",
   "execution_count": 86,
   "id": "c4649aa1",
   "metadata": {},
   "outputs": [
    {
     "data": {
      "text/plain": [
       "idcanalvenda\n",
       "Mobile        5714\n",
       "Internet      5596\n",
       "Aplicativo    4715\n",
       "Name: count, dtype: int64"
      ]
     },
     "execution_count": 86,
     "metadata": {},
     "output_type": "execute_result"
    }
   ],
   "source": [
    "tbl_vendas.idcanalvenda.value_counts()"
   ]
  },
  {
   "cell_type": "markdown",
   "id": "1769998b",
   "metadata": {},
   "source": [
    "# Construção da tabela de previsão"
   ]
  },
  {
   "cell_type": "code",
   "execution_count": 87,
   "id": "af731fef",
   "metadata": {},
   "outputs": [],
   "source": [
    "# seleção das colunas para a tabela de previsão\n",
    "tbl_previsao = selecao_colunas(df=tbl_vendas, colunas=['Data','sigla_estado','idcanalvenda','bandeira','Nome_Departamento_ajustado','Preço', 'vl_frete'])"
   ]
  },
  {
   "cell_type": "code",
   "execution_count": 88,
   "id": "b1c46d31",
   "metadata": {},
   "outputs": [],
   "source": [
    "# transformação de coluna data em index da tabela\n",
    "tbl_vendas.set_index('Data', inplace=True)"
   ]
  },
  {
   "cell_type": "code",
   "execution_count": 89,
   "id": "74c69e7a",
   "metadata": {},
   "outputs": [],
   "source": [
    "# agrupamento dos dados para criação da tabela de previsão\n",
    "tbl_previsao = tbl_vendas[['Preço']].resample('D').sum()"
   ]
  },
  {
   "cell_type": "code",
   "execution_count": 90,
   "id": "4e5a746a",
   "metadata": {},
   "outputs": [
    {
     "data": {
      "image/png": "[encoded data removed]",
      "text/plain": [
       "<Figure size 640x480 with 1 Axes>"
      ]
     },
     "metadata": {},
     "output_type": "display_data"
    }
   ],
   "source": [
    "# visualização dos dados\n",
    "tbl_previsao.plot(title='Volume de vendas diário', legend=False);\n"
   ]
  },
  {
   "cell_type": "code",
   "execution_count": 91,
   "id": "1c37849a",
   "metadata": {},
   "outputs": [
    {
     "name": "stdout",
     "output_type": "stream",
     "text": [
      "<class 'pandas.core.frame.DataFrame'>\n",
      "DatetimeIndex: 15 entries, 2021-03-30 to 2021-04-13\n",
      "Freq: D\n",
      "Data columns (total 1 columns):\n",
      " #   Column  Non-Null Count  Dtype  \n",
      "---  ------  --------------  -----  \n",
      " 0   Preço   15 non-null     float64\n",
      "dtypes: float64(1)\n",
      "memory usage: 240.0 bytes\n"
     ]
    }
   ],
   "source": [
    "tbl_previsao.info()"
   ]
  },
  {
   "cell_type": "code",
   "execution_count": 92,
   "id": "6747bd50",
   "metadata": {},
   "outputs": [
    {
     "data": {
      "text/html": [
       "<div>\n",
       "<style scoped>\n",
       "    .dataframe tbody tr th:only-of-type {\n",
       "        vertical-align: middle;\n",
       "    }\n",
       "\n",
       "    .dataframe tbody tr th {\n",
       "        vertical-align: top;\n",
       "    }\n",
       "\n",
       "    .dataframe thead th {\n",
       "        text-align: right;\n",
       "    }\n",
       "</style>\n",
       "<table border=\"1\" class=\"dataframe\">\n",
       "  <thead>\n",
       "    <tr style=\"text-align: right;\">\n",
       "      <th></th>\n",
       "      <th>Preço</th>\n",
       "    </tr>\n",
       "  </thead>\n",
       "  <tbody>\n",
       "    <tr>\n",
       "      <th>count</th>\n",
       "      <td>1.500000e+01</td>\n",
       "    </tr>\n",
       "    <tr>\n",
       "      <th>mean</th>\n",
       "      <td>9.177545e+05</td>\n",
       "    </tr>\n",
       "    <tr>\n",
       "      <th>std</th>\n",
       "      <td>9.250732e+05</td>\n",
       "    </tr>\n",
       "    <tr>\n",
       "      <th>min</th>\n",
       "      <td>2.719463e+04</td>\n",
       "    </tr>\n",
       "    <tr>\n",
       "      <th>10%</th>\n",
       "      <td>6.463054e+04</td>\n",
       "    </tr>\n",
       "    <tr>\n",
       "      <th>25%</th>\n",
       "      <td>1.853775e+05</td>\n",
       "    </tr>\n",
       "    <tr>\n",
       "      <th>50%</th>\n",
       "      <td>7.475031e+05</td>\n",
       "    </tr>\n",
       "    <tr>\n",
       "      <th>75%</th>\n",
       "      <td>1.263291e+06</td>\n",
       "    </tr>\n",
       "    <tr>\n",
       "      <th>90%</th>\n",
       "      <td>1.926304e+06</td>\n",
       "    </tr>\n",
       "    <tr>\n",
       "      <th>95%</th>\n",
       "      <td>2.486774e+06</td>\n",
       "    </tr>\n",
       "    <tr>\n",
       "      <th>max</th>\n",
       "      <td>3.351925e+06</td>\n",
       "    </tr>\n",
       "  </tbody>\n",
       "</table>\n",
       "</div>"
      ],
      "text/plain": [
       "              Preço\n",
       "count  1.500000e+01\n",
       "mean   9.177545e+05\n",
       "std    9.250732e+05\n",
       "min    2.719463e+04\n",
       "10%    6.463054e+04\n",
       "25%    1.853775e+05\n",
       "50%    7.475031e+05\n",
       "75%    1.263291e+06\n",
       "90%    1.926304e+06\n",
       "95%    2.486774e+06\n",
       "max    3.351925e+06"
      ]
     },
     "execution_count": 92,
     "metadata": {},
     "output_type": "execute_result"
    }
   ],
   "source": [
    "tbl_previsao.describe(percentiles=[0.1,0.25,0.5,0.75,0.9,0.95])"
   ]
  },
  {
   "cell_type": "code",
   "execution_count": 93,
   "id": "be849bfd",
   "metadata": {},
   "outputs": [
    {
     "data": {
      "image/png": "[encoded data removed]",
      "text/plain": [
       "<Figure size 640x480 with 1 Axes>"
      ]
     },
     "metadata": {},
     "output_type": "display_data"
    }
   ],
   "source": [
    "tbl_previsao[['Preço']].plot.hist();\n"
   ]
  },
  {
   "cell_type": "code",
   "execution_count": 94,
   "id": "6e20a7f2",
   "metadata": {},
   "outputs": [
    {
     "data": {
      "image/png": "[encoded data removed]",
      "text/plain": [
       "<Figure size 640x480 with 1 Axes>"
      ]
     },
     "metadata": {},
     "output_type": "display_data"
    }
   ],
   "source": [
    "plt.boxplot(power_transform(tbl_previsao[['Preço']], method='box-cox'));"
   ]
  },
  {
   "cell_type": "code",
   "execution_count": 96,
   "id": "4cb9a06e",
   "metadata": {},
   "outputs": [
    {
     "data": {
      "text/html": [
       "<div>\n",
       "<style scoped>\n",
       "    .dataframe tbody tr th:only-of-type {\n",
       "        vertical-align: middle;\n",
       "    }\n",
       "\n",
       "    .dataframe tbody tr th {\n",
       "        vertical-align: top;\n",
       "    }\n",
       "\n",
       "    .dataframe thead th {\n",
       "        text-align: right;\n",
       "    }\n",
       "</style>\n",
       "<table border=\"1\" class=\"dataframe\">\n",
       "  <thead>\n",
       "    <tr style=\"text-align: right;\">\n",
       "      <th></th>\n",
       "      <th>Preço</th>\n",
       "      <th>Preço_rm_2</th>\n",
       "      <th>Preço_rm_3</th>\n",
       "      <th>Preço_rm_5</th>\n",
       "      <th>Preço_rm_7</th>\n",
       "    </tr>\n",
       "    <tr>\n",
       "      <th>Data</th>\n",
       "      <th></th>\n",
       "      <th></th>\n",
       "      <th></th>\n",
       "      <th></th>\n",
       "      <th></th>\n",
       "    </tr>\n",
       "  </thead>\n",
       "  <tbody>\n",
       "    <tr>\n",
       "      <th>2021-03-30</th>\n",
       "      <td>3351925.408</td>\n",
       "      <td>NaN</td>\n",
       "      <td>NaN</td>\n",
       "      <td>NaN</td>\n",
       "      <td>NaN</td>\n",
       "    </tr>\n",
       "    <tr>\n",
       "      <th>2021-03-31</th>\n",
       "      <td>2115995.264</td>\n",
       "      <td>2733960.336</td>\n",
       "      <td>NaN</td>\n",
       "      <td>NaN</td>\n",
       "      <td>NaN</td>\n",
       "    </tr>\n",
       "    <tr>\n",
       "      <th>2021-04-01</th>\n",
       "      <td>1641767.952</td>\n",
       "      <td>1878881.608</td>\n",
       "      <td>2.369896e+06</td>\n",
       "      <td>NaN</td>\n",
       "      <td>NaN</td>\n",
       "    </tr>\n",
       "    <tr>\n",
       "      <th>2021-04-02</th>\n",
       "      <td>1435357.032</td>\n",
       "      <td>1538562.492</td>\n",
       "      <td>1.731040e+06</td>\n",
       "      <td>NaN</td>\n",
       "      <td>NaN</td>\n",
       "    </tr>\n",
       "    <tr>\n",
       "      <th>2021-04-03</th>\n",
       "      <td>1091225.688</td>\n",
       "      <td>1263291.360</td>\n",
       "      <td>1.389450e+06</td>\n",
       "      <td>1.927254e+06</td>\n",
       "      <td>NaN</td>\n",
       "    </tr>\n",
       "  </tbody>\n",
       "</table>\n",
       "</div>"
      ],
      "text/plain": [
       "                  Preço   Preço_rm_2    Preço_rm_3    Preço_rm_5  Preço_rm_7\n",
       "Data                                                                        \n",
       "2021-03-30  3351925.408          NaN           NaN           NaN         NaN\n",
       "2021-03-31  2115995.264  2733960.336           NaN           NaN         NaN\n",
       "2021-04-01  1641767.952  1878881.608  2.369896e+06           NaN         NaN\n",
       "2021-04-02  1435357.032  1538562.492  1.731040e+06           NaN         NaN\n",
       "2021-04-03  1091225.688  1263291.360  1.389450e+06  1.927254e+06         NaN"
      ]
     },
     "execution_count": 96,
     "metadata": {},
     "output_type": "execute_result"
    }
   ],
   "source": [
    "# inserção das coluneas de média móvel na tabela\n",
    "tbl_previsao = media_movel(tbl_previsao, coluna='Preço', p=[2,3,5,7])\n",
    "tbl_previsao.head()"
   ]
  },
  {
   "cell_type": "code",
   "execution_count": 97,
   "id": "c8d64052",
   "metadata": {},
   "outputs": [
    {
     "data": {
      "text/html": [
       "<div>\n",
       "<style scoped>\n",
       "    .dataframe tbody tr th:only-of-type {\n",
       "        vertical-align: middle;\n",
       "    }\n",
       "\n",
       "    .dataframe tbody tr th {\n",
       "        vertical-align: top;\n",
       "    }\n",
       "\n",
       "    .dataframe thead th {\n",
       "        text-align: right;\n",
       "    }\n",
       "</style>\n",
       "<table border=\"1\" class=\"dataframe\">\n",
       "  <thead>\n",
       "    <tr style=\"text-align: right;\">\n",
       "      <th></th>\n",
       "      <th>Preço</th>\n",
       "      <th>Preço_rm_2</th>\n",
       "      <th>Preço_rm_3</th>\n",
       "      <th>Preço_rm_5</th>\n",
       "      <th>Preço_rm_7</th>\n",
       "      <th>Preço_lag_2</th>\n",
       "      <th>Preço_lag_3</th>\n",
       "      <th>Preço_lag_5</th>\n",
       "      <th>Preço_lag_7</th>\n",
       "    </tr>\n",
       "    <tr>\n",
       "      <th>Data</th>\n",
       "      <th></th>\n",
       "      <th></th>\n",
       "      <th></th>\n",
       "      <th></th>\n",
       "      <th></th>\n",
       "      <th></th>\n",
       "      <th></th>\n",
       "      <th></th>\n",
       "      <th></th>\n",
       "    </tr>\n",
       "  </thead>\n",
       "  <tbody>\n",
       "    <tr>\n",
       "      <th>2021-03-30</th>\n",
       "      <td>3351925.408</td>\n",
       "      <td>NaN</td>\n",
       "      <td>NaN</td>\n",
       "      <td>NaN</td>\n",
       "      <td>NaN</td>\n",
       "      <td>NaN</td>\n",
       "      <td>NaN</td>\n",
       "      <td>NaN</td>\n",
       "      <td>NaN</td>\n",
       "    </tr>\n",
       "    <tr>\n",
       "      <th>2021-03-31</th>\n",
       "      <td>2115995.264</td>\n",
       "      <td>2733960.336</td>\n",
       "      <td>NaN</td>\n",
       "      <td>NaN</td>\n",
       "      <td>NaN</td>\n",
       "      <td>NaN</td>\n",
       "      <td>NaN</td>\n",
       "      <td>NaN</td>\n",
       "      <td>NaN</td>\n",
       "    </tr>\n",
       "    <tr>\n",
       "      <th>2021-04-01</th>\n",
       "      <td>1641767.952</td>\n",
       "      <td>1878881.608</td>\n",
       "      <td>2.369896e+06</td>\n",
       "      <td>NaN</td>\n",
       "      <td>NaN</td>\n",
       "      <td>3351925.408</td>\n",
       "      <td>NaN</td>\n",
       "      <td>NaN</td>\n",
       "      <td>NaN</td>\n",
       "    </tr>\n",
       "    <tr>\n",
       "      <th>2021-04-02</th>\n",
       "      <td>1435357.032</td>\n",
       "      <td>1538562.492</td>\n",
       "      <td>1.731040e+06</td>\n",
       "      <td>NaN</td>\n",
       "      <td>NaN</td>\n",
       "      <td>2115995.264</td>\n",
       "      <td>3351925.408</td>\n",
       "      <td>NaN</td>\n",
       "      <td>NaN</td>\n",
       "    </tr>\n",
       "    <tr>\n",
       "      <th>2021-04-03</th>\n",
       "      <td>1091225.688</td>\n",
       "      <td>1263291.360</td>\n",
       "      <td>1.389450e+06</td>\n",
       "      <td>1.927254e+06</td>\n",
       "      <td>NaN</td>\n",
       "      <td>1641767.952</td>\n",
       "      <td>2115995.264</td>\n",
       "      <td>NaN</td>\n",
       "      <td>NaN</td>\n",
       "    </tr>\n",
       "  </tbody>\n",
       "</table>\n",
       "</div>"
      ],
      "text/plain": [
       "                  Preço   Preço_rm_2    Preço_rm_3    Preço_rm_5  Preço_rm_7  \\\n",
       "Data                                                                           \n",
       "2021-03-30  3351925.408          NaN           NaN           NaN         NaN   \n",
       "2021-03-31  2115995.264  2733960.336           NaN           NaN         NaN   \n",
       "2021-04-01  1641767.952  1878881.608  2.369896e+06           NaN         NaN   \n",
       "2021-04-02  1435357.032  1538562.492  1.731040e+06           NaN         NaN   \n",
       "2021-04-03  1091225.688  1263291.360  1.389450e+06  1.927254e+06         NaN   \n",
       "\n",
       "            Preço_lag_2  Preço_lag_3  Preço_lag_5  Preço_lag_7  \n",
       "Data                                                            \n",
       "2021-03-30          NaN          NaN          NaN          NaN  \n",
       "2021-03-31          NaN          NaN          NaN          NaN  \n",
       "2021-04-01  3351925.408          NaN          NaN          NaN  \n",
       "2021-04-02  2115995.264  3351925.408          NaN          NaN  \n",
       "2021-04-03  1641767.952  2115995.264          NaN          NaN  "
      ]
     },
     "execution_count": 97,
     "metadata": {},
     "output_type": "execute_result"
    }
   ],
   "source": [
    "# inserção das colunas de lags no dataset\n",
    "tbl_previsao = lag_data(tbl_previsao, coluna='Preço', lag=[2,3,5,7])\n",
    "tbl_previsao.head()"
   ]
  },
  {
   "cell_type": "code",
   "execution_count": 98,
   "id": "cfba4476",
   "metadata": {},
   "outputs": [
    {
     "data": {
      "text/plain": [
       "<Axes: xlabel='Data'>"
      ]
     },
     "execution_count": 98,
     "metadata": {},
     "output_type": "execute_result"
    },
    {
     "data": {
      "image/png": "[encoded data removed]",
      "text/plain": [
       "<Figure size 640x480 with 1 Axes>"
      ]
     },
     "metadata": {},
     "output_type": "display_data"
    }
   ],
   "source": [
    "tbl_previsao.plot()"
   ]
  },
  {
   "cell_type": "markdown",
   "id": "c7361d0e",
   "metadata": {},
   "source": [
    "## Gerar suplot comparando o lag com o dado histórico"
   ]
  },
  {
   "cell_type": "code",
   "execution_count": 99,
   "id": "df4f16e6",
   "metadata": {},
   "outputs": [
    {
     "data": {
      "image/png": "[encoded data removed]",
      "text/plain": [
       "<Figure size 640x480 with 1 Axes>"
      ]
     },
     "metadata": {},
     "output_type": "display_data"
    }
   ],
   "source": [
    "\n",
    "\n",
    "tbl_previsao[['Preço', 'Preço_lag_2', 'Preço_lag_3', 'Preço_lag_5','Preço_lag_7']].plot();"
   ]
  },
  {
   "cell_type": "code",
   "execution_count": 100,
   "id": "5af51927",
   "metadata": {},
   "outputs": [
    {
     "data": {
      "text/html": [
       "<div>\n",
       "<style scoped>\n",
       "    .dataframe tbody tr th:only-of-type {\n",
       "        vertical-align: middle;\n",
       "    }\n",
       "\n",
       "    .dataframe tbody tr th {\n",
       "        vertical-align: top;\n",
       "    }\n",
       "\n",
       "    .dataframe thead th {\n",
       "        text-align: right;\n",
       "    }\n",
       "</style>\n",
       "<table border=\"1\" class=\"dataframe\">\n",
       "  <thead>\n",
       "    <tr style=\"text-align: right;\">\n",
       "      <th></th>\n",
       "      <th>Preço</th>\n",
       "      <th>Preço_rm_2</th>\n",
       "      <th>Preço_rm_3</th>\n",
       "      <th>Preço_rm_5</th>\n",
       "      <th>Preço_rm_7</th>\n",
       "      <th>Preço_lag_2</th>\n",
       "      <th>Preço_lag_3</th>\n",
       "      <th>Preço_lag_5</th>\n",
       "      <th>Preço_lag_7</th>\n",
       "      <th>Dia_Semana</th>\n",
       "      <th>Mês</th>\n",
       "      <th>Feriado</th>\n",
       "    </tr>\n",
       "    <tr>\n",
       "      <th>Data</th>\n",
       "      <th></th>\n",
       "      <th></th>\n",
       "      <th></th>\n",
       "      <th></th>\n",
       "      <th></th>\n",
       "      <th></th>\n",
       "      <th></th>\n",
       "      <th></th>\n",
       "      <th></th>\n",
       "      <th></th>\n",
       "      <th></th>\n",
       "      <th></th>\n",
       "    </tr>\n",
       "  </thead>\n",
       "  <tbody>\n",
       "    <tr>\n",
       "      <th>2021-03-30</th>\n",
       "      <td>3351925.408</td>\n",
       "      <td>NaN</td>\n",
       "      <td>NaN</td>\n",
       "      <td>NaN</td>\n",
       "      <td>NaN</td>\n",
       "      <td>NaN</td>\n",
       "      <td>NaN</td>\n",
       "      <td>NaN</td>\n",
       "      <td>NaN</td>\n",
       "      <td>30</td>\n",
       "      <td>3</td>\n",
       "      <td>False</td>\n",
       "    </tr>\n",
       "    <tr>\n",
       "      <th>2021-03-31</th>\n",
       "      <td>2115995.264</td>\n",
       "      <td>2733960.336</td>\n",
       "      <td>NaN</td>\n",
       "      <td>NaN</td>\n",
       "      <td>NaN</td>\n",
       "      <td>NaN</td>\n",
       "      <td>NaN</td>\n",
       "      <td>NaN</td>\n",
       "      <td>NaN</td>\n",
       "      <td>31</td>\n",
       "      <td>3</td>\n",
       "      <td>False</td>\n",
       "    </tr>\n",
       "    <tr>\n",
       "      <th>2021-04-01</th>\n",
       "      <td>1641767.952</td>\n",
       "      <td>1878881.608</td>\n",
       "      <td>2.369896e+06</td>\n",
       "      <td>NaN</td>\n",
       "      <td>NaN</td>\n",
       "      <td>3351925.408</td>\n",
       "      <td>NaN</td>\n",
       "      <td>NaN</td>\n",
       "      <td>NaN</td>\n",
       "      <td>1</td>\n",
       "      <td>4</td>\n",
       "      <td>False</td>\n",
       "    </tr>\n",
       "    <tr>\n",
       "      <th>2021-04-02</th>\n",
       "      <td>1435357.032</td>\n",
       "      <td>1538562.492</td>\n",
       "      <td>1.731040e+06</td>\n",
       "      <td>NaN</td>\n",
       "      <td>NaN</td>\n",
       "      <td>2115995.264</td>\n",
       "      <td>3351925.408</td>\n",
       "      <td>NaN</td>\n",
       "      <td>NaN</td>\n",
       "      <td>2</td>\n",
       "      <td>4</td>\n",
       "      <td>True</td>\n",
       "    </tr>\n",
       "    <tr>\n",
       "      <th>2021-04-03</th>\n",
       "      <td>1091225.688</td>\n",
       "      <td>1263291.360</td>\n",
       "      <td>1.389450e+06</td>\n",
       "      <td>1.927254e+06</td>\n",
       "      <td>NaN</td>\n",
       "      <td>1641767.952</td>\n",
       "      <td>2115995.264</td>\n",
       "      <td>NaN</td>\n",
       "      <td>NaN</td>\n",
       "      <td>3</td>\n",
       "      <td>4</td>\n",
       "      <td>False</td>\n",
       "    </tr>\n",
       "  </tbody>\n",
       "</table>\n",
       "</div>"
      ],
      "text/plain": [
       "                  Preço   Preço_rm_2    Preço_rm_3    Preço_rm_5  Preço_rm_7  \\\n",
       "Data                                                                           \n",
       "2021-03-30  3351925.408          NaN           NaN           NaN         NaN   \n",
       "2021-03-31  2115995.264  2733960.336           NaN           NaN         NaN   \n",
       "2021-04-01  1641767.952  1878881.608  2.369896e+06           NaN         NaN   \n",
       "2021-04-02  1435357.032  1538562.492  1.731040e+06           NaN         NaN   \n",
       "2021-04-03  1091225.688  1263291.360  1.389450e+06  1.927254e+06         NaN   \n",
       "\n",
       "            Preço_lag_2  Preço_lag_3  Preço_lag_5  Preço_lag_7  Dia_Semana  \\\n",
       "Data                                                                         \n",
       "2021-03-30          NaN          NaN          NaN          NaN          30   \n",
       "2021-03-31          NaN          NaN          NaN          NaN          31   \n",
       "2021-04-01  3351925.408          NaN          NaN          NaN           1   \n",
       "2021-04-02  2115995.264  3351925.408          NaN          NaN           2   \n",
       "2021-04-03  1641767.952  2115995.264          NaN          NaN           3   \n",
       "\n",
       "            Mês  Feriado  \n",
       "Data                      \n",
       "2021-03-30    3    False  \n",
       "2021-03-31    3    False  \n",
       "2021-04-01    4    False  \n",
       "2021-04-02    4     True  \n",
       "2021-04-03    4    False  "
      ]
     },
     "execution_count": 100,
     "metadata": {},
     "output_type": "execute_result"
    }
   ],
   "source": [
    "# inserção de colunas de complemento de informação de data do index\n",
    "tbl_previsao = dados_temporais(tbl_previsao)\n",
    "tbl_previsao.head()"
   ]
  },
  {
   "cell_type": "code",
   "execution_count": 102,
   "id": "7faf3706",
   "metadata": {},
   "outputs": [
    {
     "name": "stdout",
     "output_type": "stream",
     "text": [
      "\n",
      "🔍 Teste ADF - Preço\n",
      "ADF Statistic: -6.1428\n",
      "p-value: 0.0000\n",
      "Critério 1%%: -4.4731\n",
      "Critério 5%%: -3.2899\n",
      "Critério 10%%: -2.7724\n",
      "✅ Série estacionária (rejeita H₀)\n"
     ]
    }
   ],
   "source": [
    "# teste de estacionariedade da série temporal\n",
    "testar_estacionariedade(tbl_previsao['Preço'], nome='Preço')"
   ]
  },
  {
   "cell_type": "code",
   "execution_count": 103,
   "id": "1d2b38cd",
   "metadata": {},
   "outputs": [
    {
     "data": {
      "image/png": "[encoded data removed]",
      "text/plain": [
       "<Figure size 640x480 with 4 Axes>"
      ]
     },
     "metadata": {},
     "output_type": "display_data"
    }
   ],
   "source": [
    "# gráfico de decomposição temporal\n",
    "grafico_decomposicao_temporal(tbl_previsao, target='Preço', n=1)"
   ]
  },
  {
   "cell_type": "code",
   "execution_count": 104,
   "id": "268235e6",
   "metadata": {},
   "outputs": [
    {
     "data": {
      "image/png": "[encoded data removed]",
      "text/plain": [
       "<Figure size 640x480 with 1 Axes>"
      ]
     },
     "metadata": {},
     "output_type": "display_data"
    }
   ],
   "source": [
    "from statsmodels.graphics.tsaplots import plot_pacf, plot_acf\n",
    "plot_pacf(tbl_previsao['Preço'], lags=7, method='ywm')  # método estável para séries reais\n",
    "plt.show()"
   ]
  },
  {
   "cell_type": "code",
   "execution_count": 105,
   "id": "440c69d5",
   "metadata": {},
   "outputs": [
    {
     "data": {
      "image/png": "[encoded data removed]",
      "text/plain": [
       "<Figure size 640x480 with 1 Axes>"
      ]
     },
     "metadata": {},
     "output_type": "display_data"
    }
   ],
   "source": [
    "plot_acf(tbl_previsao['Preço'], lags=13) \n",
    "plt.show()"
   ]
  },
  {
   "cell_type": "markdown",
   "id": "499fe47b",
   "metadata": {},
   "source": [
    "## Salvando dataset previsão"
   ]
  },
  {
   "cell_type": "code",
   "execution_count": 50,
   "id": "d9897f21",
   "metadata": {},
   "outputs": [],
   "source": [
    "# salvando o dataset de previsao\n",
    "salvar_dataset(tbl_previsao, path='../data/processed/dataset_previsao.csv')"
   ]
  },
  {
   "cell_type": "markdown",
   "id": "c8f0052b",
   "metadata": {},
   "source": [
    "# Preciso salvar um dataset tratado de clientes e de vendas pois há duplicação de dados e desconexão que não vamos conseguir corrigir por desconhecimento dos dados."
   ]
  },
  {
   "cell_type": "code",
   "execution_count": 51,
   "id": "bd0c23b5",
   "metadata": {},
   "outputs": [],
   "source": [
    "# salvando o dataset de clientes\n",
    "salvar_dataset(tbl_clientes, path='../data/processed/dataset_clientes.csv')"
   ]
  }
 ],
 "metadata": {
  "kernelspec": {
   "display_name": ".venv",
   "language": "python",
   "name": "python3"
  },
  "language_info": {
   "codemirror_mode": {
    "name": "ipython",
    "version": 3
   },
   "file_extension": ".py",
   "mimetype": "text/x-python",
   "name": "python",
   "nbconvert_exporter": "python",
   "pygments_lexer": "ipython3",
   "version": "3.11.9"
  }
 },
 "nbformat": 4,
 "nbformat_minor": 5
}
